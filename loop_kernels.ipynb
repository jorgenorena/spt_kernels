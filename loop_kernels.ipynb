{
 "cells": [
  {
   "attachments": {},
   "cell_type": "markdown",
   "metadata": {},
   "source": [
    "# Kernels for the one loop power spectrum, bispectrum, and response kernels in SPT"
   ]
  },
  {
   "cell_type": "code",
   "execution_count": 1,
   "metadata": {},
   "outputs": [],
   "source": [
    "import numpy as np\n",
    "import sympy as sp\n",
    "\n",
    "import sys\n",
    "import vectors as vect\n",
    "import kernels"
   ]
  },
  {
   "cell_type": "markdown",
   "metadata": {},
   "source": [
    "Some code to convert the resulting kernels into C format."
   ]
  },
  {
   "cell_type": "markdown",
   "metadata": {},
   "source": [
    "## Tree level bispectrum kernel"
   ]
  },
  {
   "cell_type": "markdown",
   "metadata": {},
   "source": [
    "As a warmup, the tree level bispectrum kernel."
   ]
  },
  {
   "cell_type": "code",
   "execution_count": 2,
   "metadata": {},
   "outputs": [],
   "source": [
    "vk1, vk2 = vect.vectors(\"k1\", \"k2\")\n",
    "k1, k2, k3 = sp.symbols([\"k1\", \"k2\", \"k3\"])\n",
    "f2_raw = kernels.Fs(2, [vk1, vk2])\n",
    "k1dk2 = vect.sympy(vect.Dot(vk1, vk2))\n",
    "k1dk1 = vect.sympy(vect.Dot(vk1, vk1))\n",
    "k2dk2 = vect.sympy(vect.Dot(vk2, vk2))\n",
    "replacements = [\n",
    "    (k1dk1, k1**2), (k2dk2, k2**2), (k1dk2, (k3**2 - k1**2 - k2**2)/2)\n",
    "]\n",
    "f2_symbolic = sp.simplify(vect.sympy(f2_raw).subs(replacements))\n",
    "f2_string = str(f2_symbolic)\n",
    "with open(\"tree_kernel.txt\", \"w\") as fout:\n",
    "    fout.write(f2_string)"
   ]
  },
  {
   "cell_type": "markdown",
   "metadata": {},
   "source": [
    "We now want to take limits, it's easier to do it keeping the angle"
   ]
  },
  {
   "cell_type": "code",
   "execution_count": 3,
   "metadata": {},
   "outputs": [],
   "source": [
    "vk1, vk2 = vect.vectors(\"k1\", \"k2\")\n",
    "k1, k2, mu12 = sp.symbols([\"k1\", \"k2\", \"\\mu_{12}\"])\n",
    "kernel_raw = kernels.Fs(2, [vk1, vk2])\n",
    "k1dk2 = vect.sympy(vect.Dot(vk1, vk2))\n",
    "k1dk1 = vect.sympy(vect.Dot(vk1, vk1))\n",
    "k2dk2 = vect.sympy(vect.Dot(vk2, vk2))\n",
    "replacements = [\n",
    "    (k1dk1, k1**2), (k2dk2, k2**2), (k1dk2, k1*k2*mu12)\n",
    "]\n",
    "kernel_symbolic = sp.simplify(vect.sympy(kernel_raw).subs(replacements))\n",
    "\n",
    "series = sp.simplify(\n",
    "    sp.series(\n",
    "        kernel_symbolic, k1, 0, n=1\n",
    "    ).removeO().subs([(mu12, (k3**2 - k2**2 - k1**2)/(2*k1*k2))])\n",
    ")\n",
    "series_string = str(series)\n",
    "with open(\"tree_kernel_squeezed.txt\", \"w\") as fout:\n",
    "    fout.write(series_string)\n"
   ]
  },
  {
   "cell_type": "markdown",
   "metadata": {},
   "source": [
    "Now the squeezed kernel minus the consistency relation. (The response coefficients come from this.)"
   ]
  },
  {
   "cell_type": "code",
   "execution_count": 4,
   "metadata": {},
   "outputs": [],
   "source": [
    "vk1, vk2 = vect.vectors(\"k1\", \"k2\")\n",
    "k1, k2, mu12 = sp.symbols([\"k1\", \"k2\", \"\\mu_{12}\"])\n",
    "kernel_raw = kernels.Fs(2, [vk1, vk2])\n",
    "k1dk2 = vect.sympy(vect.Dot(vk1, vk2))\n",
    "k1dk1 = vect.sympy(vect.Dot(vk1, vk1))\n",
    "k2dk2 = vect.sympy(vect.Dot(vk2, vk2))\n",
    "replacements = [\n",
    "    (k1dk1, k1**2), (k2dk2, k2**2), (k1dk2, k1*k2*mu12)\n",
    "]\n",
    "kernel_symbolic = sp.simplify(vect.sympy(kernel_raw).subs(replacements))\n",
    "\n",
    "series_0 = sp.simplify(\n",
    "    (sp.series(\n",
    "        kernel_symbolic, k1, 0, n=1\n",
    "    ).removeO() -\n",
    "    sp.series(\n",
    "        kernel_symbolic, k1, 0, n=0\n",
    "    ).removeO()\n",
    "    ).subs([(mu12, (k3**2 - k2**2 - k1**2)/(2*k1*k2))])\n",
    ")\n",
    "series_string = str(series_0)\n",
    "with open(\"tree_kernel_squeezed_0.txt\", \"w\") as fout:\n",
    "    fout.write(series_string)"
   ]
  },
  {
   "cell_type": "markdown",
   "metadata": {},
   "source": [
    "Let's extract the response coefficients."
   ]
  },
  {
   "cell_type": "code",
   "execution_count": 5,
   "metadata": {},
   "outputs": [],
   "source": [
    "vk1, vk2 = vect.vectors(\"k1\", \"k2\")\n",
    "k1, k2, mu12 = sp.symbols([\"k1\", \"k2\", \"\\mu_{12}\"])\n",
    "kernel_raw = kernels.Fs(2, [vk1, vk2])\n",
    "k1dk2 = vect.sympy(vect.Dot(vk1, vk2))\n",
    "k1dk1 = vect.sympy(vect.Dot(vk1, vk1))\n",
    "k2dk2 = vect.sympy(vect.Dot(vk2, vk2))\n",
    "replacements = [\n",
    "    (k1dk1, k1**2), (k2dk2, k2**2), (k1dk2, k1*k2*mu12)\n",
    "]\n",
    "kernel_symbolic = sp.simplify(vect.sympy(kernel_raw).subs(replacements))\n",
    "\n",
    "series_0 = sp.simplify(\n",
    "    (sp.series(\n",
    "        kernel_symbolic, k1, 0, n=1\n",
    "    ).removeO() -\n",
    "    sp.series(\n",
    "        kernel_symbolic, k1, 0, n=0\n",
    "    ).removeO()\n",
    "    )\n",
    ")\n",
    "\n",
    "result_poly = sp.poly(series_0, mu12)\n",
    "\n",
    "b1_kernel = result_poly.coeff_monomial(1)\n",
    "bmu_kernel = result_poly.coeff_monomial(mu12**2)\n",
    "\n",
    "if result_poly.coeff_monomial(mu12) != 0 or result_poly.degree() > 2:\n",
    "    raise Exception(\"Unexpected coefficient in mu12 polynomial!\")\n",
    "\n",
    "b1_kernel_string = str(b1_kernel)\n",
    "bmu_kernel_string = str(bmu_kernel)\n",
    "\n",
    "with open(\"tree_b1_kernel.txt\", \"w\") as fin:\n",
    "    fin.write(b1_kernel_string)\n",
    "with open(\"tree_bmu_kernel.txt\", \"w\") as fin:\n",
    "    fin.write(bmu_kernel_string)"
   ]
  },
  {
   "cell_type": "markdown",
   "metadata": {},
   "source": [
    "## Power spectrum loop kernels"
   ]
  },
  {
   "cell_type": "markdown",
   "metadata": {},
   "source": [
    "Now the power spectrum kernels"
   ]
  },
  {
   "cell_type": "markdown",
   "metadata": {},
   "source": [
    "### $P_{13}$ kernel"
   ]
  },
  {
   "cell_type": "code",
   "execution_count": 6,
   "metadata": {},
   "outputs": [],
   "source": [
    "vk, vp, vv = vect.vectors(\"k\", \"p\", \"v\")\n",
    "eps = vect.Scalar(\"epsilon\")\n",
    "k, p, mu, epsilon = sp.symbols([\"k\", \"p\", \"mu\", \"epsilon\"])\n",
    "f3_raw = kernels.Fs(3, [vk, vp, -vp + eps*vv])\n",
    "kdp = vect.sympy(vect.Dot(vk, vp))\n",
    "kdk = vect.sympy(vect.Dot(vk, vk))\n",
    "pdp = vect.sympy(vect.Dot(vp, vp))\n",
    "replacements = [\n",
    "    (kdp, k*p*mu),\n",
    "    (kdk, k**2),\n",
    "    (pdp, p**2)\n",
    "]\n",
    "kernel_symbolic = sp.simplify(\n",
    "    sp.series(\n",
    "        vect.sympy(f3_raw), epsilon, 0, n=1\n",
    "    ).removeO().subs(replacements)\n",
    ")\n",
    "kernel_string = str(kernel_symbolic)\n",
    "with open(\"p31_kernel.txt\", \"w\") as fout:\n",
    "    fout.write(kernel_string)"
   ]
  },
  {
   "cell_type": "markdown",
   "metadata": {},
   "source": [
    "### $P_{22}$ kernel"
   ]
  },
  {
   "cell_type": "code",
   "execution_count": 7,
   "metadata": {},
   "outputs": [],
   "source": [
    "vk, vp = vect.vectors(\"k\", \"p\")\n",
    "k, p, mu = sp.symbols([\"k\", \"p\", \"mu\"])\n",
    "f2_raw = kernels.Fs(2, [vk - vp, vp])\n",
    "kdp = vect.sympy(vect.Dot(vk, vp))\n",
    "kdk = vect.sympy(vect.Dot(vk, vk))\n",
    "pdp = vect.sympy(vect.Dot(vp, vp))\n",
    "replacements = [\n",
    "    (kdp, k*p*mu),\n",
    "    (kdk, k**2),\n",
    "    (pdp, p**2)\n",
    "]\n",
    "kernel_symbolic = sp.simplify((vect.sympy(f2_raw).subs(replacements))**2)\n",
    "kernel_string = str(kernel_symbolic)\n",
    "with open(\"p22_kernel.txt\", \"w\") as fout:\n",
    "    fout.write(kernel_string)"
   ]
  },
  {
   "cell_type": "markdown",
   "metadata": {},
   "source": [
    "## Bispectrum loop kernels"
   ]
  },
  {
   "cell_type": "markdown",
   "metadata": {},
   "source": [
    "### $B_{222}$ kernel"
   ]
  },
  {
   "cell_type": "markdown",
   "metadata": {},
   "source": [
    "$\\vec{k}_1 = (0, 0, k_1)$, \n",
    "$\\vec{k}_2 = (k_2 \\sin \\theta_{12}, 0, k_2 \\cos \\theta_{12})$, \n",
    "$\\vec{p} = (p \\sin\\theta \\cos\\phi, p \\sin\\theta \\sin\\phi, p\\cos\\theta)$.\n",
    "\n",
    "$\\vec{k}_1.\\vec{p} = k_1 p \\cos\\theta$,\n",
    "\n",
    "$\\vec{k}_2.\\vec{p} = k_2 p (\\sin\\theta \\cos\\phi \\sin\\theta_{12} + \\cos\\theta \\cos\\theta_{12})$,\n",
    "\n",
    "$\\cos\\theta_{12} = \\frac{1}{2 k_1 k_2} (k_3^2 - k_1^2 - k_2^2)$,\n",
    "\n",
    "$\\sin\\theta_{12} = \\frac{1}{2 k_1 k_2}\\sqrt{4 k_1^2 k_2^2 - (k_3^2 - k_1^2 - k_2^2)^2}$"
   ]
  },
  {
   "cell_type": "code",
   "execution_count": 8,
   "metadata": {},
   "outputs": [],
   "source": [
    "vk1, vk2, vp = vect.vectors(\"k1\", \"k2\", \"p\")\n",
    "k1, k2, k3, p, mu1, mu2 = sp.symbols(\"k1 k2 k3 p mu1 mu2\")\n",
    "kernel_raw = kernels.Fs(2, [vk1 - vp, vp])*kernels.Fs(2, [vk2 + vp, -vp])*kernels.Fs(2, [vk2 + vp, vk1 - vp])\n",
    "k1dp = vect.sympy(vect.Dot(vk1, vp))\n",
    "k2dp = vect.sympy(vect.Dot(vk2, vp))\n",
    "k1dk2 = vect.sympy(vect.Dot(vk1, vk2))\n",
    "k1dk1 = vect.sympy(vect.Dot(vk1, vk1))\n",
    "k2dk2 = vect.sympy(vect.Dot(vk2, vk2))\n",
    "pdp = vect.sympy(vect.Dot(vp, vp))\n",
    "replacements = [\n",
    "    (k1dp, k1*p*mu1),\n",
    "    (k2dp, k2*p*mu2),\n",
    "    (k1dk2, (k3**2 - k1**2 - k2**2)/2),\n",
    "    (k1dk1, k1**2),\n",
    "    (k2dk2, k2**2),\n",
    "    (pdp, p**2)\n",
    "]\n",
    "kernel_symbolic = sp.simplify(vect.sympy(kernel_raw).subs(replacements))\n",
    "kernel_string = str(kernel_symbolic)\n",
    "with open(\"b222_kernel.txt\", \"w\") as fout:\n",
    "    fout.write(kernel_string)"
   ]
  },
  {
   "cell_type": "markdown",
   "metadata": {},
   "source": [
    "Since $B_{222}$ goes to zero as $k_1^2$ in the squeezed limit $k_1 \\rightarrow 0$, it doesn't contribute there."
   ]
  },
  {
   "cell_type": "markdown",
   "metadata": {},
   "source": [
    "### $B_{321}^I$ kernel"
   ]
  },
  {
   "cell_type": "code",
   "execution_count": 9,
   "metadata": {},
   "outputs": [],
   "source": [
    "vk1, vk2, vp = vect.vectors(\"k1\", \"k2\", \"p\")\n",
    "k1, k2, k3, p, mu1, mu2 = sp.symbols(\"k1 k2 k3 p mu1 mu2\")\n",
    "kernel_raw = kernels.Fs(3, [vk1, vk2 - vp, vp])*kernels.Fs(2, [vk2 - vp, vp])\n",
    "k1dk2 = vect.sympy(vect.Dot(vk1, vk2))\n",
    "k1dp = vect.sympy(vect.Dot(vk1, vp))\n",
    "k2dp = vect.sympy(vect.Dot(vk2, vp))\n",
    "k1dk1 = vect.sympy(vect.Dot(vk1, vk1))\n",
    "k2dk2 = vect.sympy(vect.Dot(vk2, vk2))\n",
    "pdp = vect.sympy(vect.Dot(vp, vp))\n",
    "replacements = [\n",
    "    (k1dp, k1*p*mu1),\n",
    "    (k2dp, k2*p*mu2),\n",
    "    (k1dk2, (k3**2 - k1**2 - k2**2)/2),\n",
    "    (k1dk1, k1**2),\n",
    "    (k2dk2, k2**2),\n",
    "    (pdp, p**2)\n",
    "]\n",
    "kernel_symbolic = sp.simplify(vect.sympy(kernel_raw).subs(replacements))\n",
    "kernel_string = str(kernel_symbolic)\n",
    "with open(\"b321I_kernel.txt\", \"w\") as fout:\n",
    "    fout.write(kernel_string)"
   ]
  },
  {
   "cell_type": "markdown",
   "metadata": {},
   "source": [
    "We now want to take limits, it's easier to do it keeping the angle"
   ]
  },
  {
   "cell_type": "code",
   "execution_count": 10,
   "metadata": {},
   "outputs": [],
   "source": [
    "vk1, vk2, vp = vect.vectors(\"k1\", \"k2\", \"p\")\n",
    "k1, k2, k3, mu12, p, mu1, mu2 = sp.symbols(\"k1 k2 k3 mu12 p mu1 mu2\")\n",
    "kernel_raw = kernels.Fs(3, [vk1, vk2 - vp, vp])*kernels.Fs(2, [vk2 - vp, vp])\n",
    "k1dk2 = vect.sympy(vect.Dot(vk1, vk2))\n",
    "k1dp = vect.sympy(vect.Dot(vk1, vp))\n",
    "k2dp = vect.sympy(vect.Dot(vk2, vp))\n",
    "k1dk1 = vect.sympy(vect.Dot(vk1, vk1))\n",
    "k2dk2 = vect.sympy(vect.Dot(vk2, vk2))\n",
    "pdp = vect.sympy(vect.Dot(vp, vp))\n",
    "replacements = [\n",
    "    (k1dp, k1*p*mu1),\n",
    "    (k2dp, k2*p*mu2),\n",
    "    (k1dk2, k1*k2*mu12),\n",
    "    (k1dk1, k1**2),\n",
    "    (k2dk2, k2**2),\n",
    "    (pdp, p**2)\n",
    "]\n",
    "kernel_symbolic = sp.simplify(vect.sympy(kernel_raw).subs(replacements))\n",
    "\n",
    "series = (\n",
    "    sp.series(\n",
    "        kernel_symbolic, k1, 0, n=1\n",
    "    ).removeO().subs([(mu12, (k3**2 - k1**2 - k2**2)/(2*k1*k2))])\n",
    ")\n",
    "series_string = str(series)\n",
    "with open(\"b321I_kernel_squeezed.txt\", \"w\") as fout:\n",
    "    fout.write(series_string)\n"
   ]
  },
  {
   "cell_type": "code",
   "execution_count": 11,
   "metadata": {},
   "outputs": [],
   "source": [
    "vk1, vk2, vp = vect.vectors(\"k1\", \"k2\", \"p\")\n",
    "k1, k2, k3, mu12, p, mu1, mu2 = sp.symbols(\"k1 k2 k3 mu12 p mu1 mu2\")\n",
    "kernel_raw = kernels.Fs(3, [vk1, vk2 - vp, vp])*kernels.Fs(2, [vk2 - vp, vp])\n",
    "k1dk2 = vect.sympy(vect.Dot(vk1, vk2))\n",
    "k1dp = vect.sympy(vect.Dot(vk1, vp))\n",
    "k2dp = vect.sympy(vect.Dot(vk2, vp))\n",
    "k1dk1 = vect.sympy(vect.Dot(vk1, vk1))\n",
    "k2dk2 = vect.sympy(vect.Dot(vk2, vk2))\n",
    "pdp = vect.sympy(vect.Dot(vp, vp))\n",
    "replacements = [\n",
    "    (k1dp, k1*p*mu1),\n",
    "    (k2dp, k2*p*mu2),\n",
    "    (k1dk2, k1*k2*mu12),\n",
    "    (k1dk1, k1**2),\n",
    "    (k2dk2, k2**2),\n",
    "    (pdp, p**2)\n",
    "]\n",
    "kernel_symbolic = sp.simplify(vect.sympy(kernel_raw).subs(replacements))\n",
    "\n",
    "series = (\n",
    "    (sp.series(\n",
    "        kernel_symbolic, k1, 0, n=1\n",
    "    ).removeO() -\n",
    "    sp.series(\n",
    "        kernel_symbolic, k1, 0, n=0\n",
    "    ).removeO()).subs([(mu12, (k3**2 - k2**2 - k1**2)/(2*k1*k2))])\n",
    ")\n",
    "series_string = str(series)\n",
    "with open(\"b321I_kernel_squeezed_0.txt\", \"w\") as fout:\n",
    "    fout.write(series_string)"
   ]
  },
  {
   "cell_type": "markdown",
   "metadata": {},
   "source": [
    "$$\n",
    "\\vec{k}_1 = k_1 (\\sqrt{1 - \\mu^2}, 0, \\mu)\\,,\\quad\n",
    "\\vec{k}_2 = k_2 (0, 0, 1)\\,,\\quad\n",
    "\\vec{p} = p (\\sqrt{1 - \\mu_p^2}\\cos\\phi, \\sqrt{1 - \\mu_p^2}\\sin\\phi, \\mu_p)\n",
    "$$\n",
    "\n",
    "$$\n",
    "\\mu_2 = \\mu_p\\,,\\quad\n",
    "\\mu_1 = \\sqrt{1 - \\mu^2}\\sqrt{1 - \\mu_p^2}\\cos\\phi + \\mu\\mu_p\n",
    "$$"
   ]
  },
  {
   "cell_type": "code",
   "execution_count": 5,
   "metadata": {},
   "outputs": [],
   "source": [
    "vk1, vk2, vp = vect.vectors(\"k1\", \"k2\", \"p\")\n",
    "k1, k2, k3, mu12, p, mu1, mu2 = sp.symbols(\"k1 k2 k3 mu12 p mu1 mu2\")\n",
    "kernel_raw = kernels.Fs(3, [vk1, vk2 - vp, vp])*kernels.Fs(2, [vk2 - vp, vp])\n",
    "k1dk2 = vect.sympy(vect.Dot(vk1, vk2))\n",
    "k1dp = vect.sympy(vect.Dot(vk1, vp))\n",
    "k2dp = vect.sympy(vect.Dot(vk2, vp))\n",
    "k1dk1 = vect.sympy(vect.Dot(vk1, vk1))\n",
    "k2dk2 = vect.sympy(vect.Dot(vk2, vk2))\n",
    "pdp = vect.sympy(vect.Dot(vp, vp))\n",
    "replacements = [\n",
    "    (k1dp, k1*p*mu1),\n",
    "    (k2dp, k2*p*mu2),\n",
    "    (k1dk2, k1*k2*mu12),\n",
    "    (k1dk1, k1**2),\n",
    "    (k2dk2, k2**2),\n",
    "    (pdp, p**2)\n",
    "]\n",
    "kernel_symbolic = sp.simplify(vect.sympy(kernel_raw).subs(replacements))\n",
    "\n",
    "series = (\n",
    "    (sp.series(\n",
    "        kernel_symbolic, k1, 0, n=1\n",
    "    ).removeO() -\n",
    "    sp.series(\n",
    "        kernel_symbolic, k1, 0, n=0\n",
    "    ).removeO())\n",
    ")\n",
    "\n",
    "series_poly = sp.poly(series, mu1, mu12)\n",
    "\n",
    "phi = sp.Symbol(\"phi\")\n",
    "phi_integral_mu1 = sp.integrate(\n",
    "    sp.sqrt(1 - mu12**2)*sp.sqrt(1 - mu2**2)*sp.cos(phi) + mu2*mu12, \n",
    "(phi, 0, 2*sp.pi))\n",
    "phi_integral_mu1_sq = sp.integrate(\n",
    "    (sp.sqrt(1 - mu12**2)*sp.sqrt(1 - mu2**2)*sp.cos(phi) + mu2*mu12)**2, \n",
    "(phi, 0, 2*sp.pi))\n",
    "phi_integral_const = 2*sp.pi\n",
    "\n",
    "quadratic = series_poly.coeff_monomial(mu1**2)\n",
    "linear = series_poly.coeff_monomial(mu1*mu12)*mu12\n",
    "zeroth = series_poly.coeff_monomial(mu12**2)*mu12**2 + series_poly.coeff_monomial(1)\n",
    "\n",
    "if (\n",
    "    series_poly.coeff_monomial(mu1) != 0 \n",
    "    or series_poly.coeff_monomial(mu12) != 0\n",
    "    or series_poly.degree() > 2\n",
    "):\n",
    "    raise Exception(\"Polynomial has unexpected coefficients!\")\n",
    "\n",
    "result_poly = sp.poly(\n",
    "    zeroth*phi_integral_const + linear*phi_integral_mu1 + quadratic*phi_integral_mu1_sq,\n",
    "    mu12)\n",
    "\n",
    "b1_kernel = sp.apart(result_poly.coeff_monomial(1), k2)\n",
    "bmu_kernel = sp.apart(result_poly.coeff_monomial(mu12**2), k2)\n",
    "\n",
    "if result_poly.coeff_monomial(mu12) != 0 or result_poly.degree() > 2:\n",
    "    raise Exception(\"Unexpected coefficient in mu12 polynomial!\")\n",
    "\n",
    "b1_kernel_string = str(b1_kernel)\n",
    "bmu_kernel_string = str(bmu_kernel)\n",
    "\n",
    "with open(\"b321I_b1_kernel.txt\", \"w\") as fin:\n",
    "    fin.write(b1_kernel_string)\n",
    "with open(\"b321I_bmu_kernel.txt\", \"w\") as fin:\n",
    "    fin.write(bmu_kernel_string)\n",
    "\n"
   ]
  },
  {
   "cell_type": "markdown",
   "metadata": {},
   "source": [
    "### $B_{411}$ kernel"
   ]
  },
  {
   "cell_type": "markdown",
   "metadata": {},
   "source": [
    "For $B_{411}$, the naive approach is too slow, producing a kernel which is simply too large. We need a better way to compute it. Let's take a look at the recursion relation\n",
    "\n",
    "$$\n",
    "\\begin{align*}\n",
    "&(33\\times 24)F_4(\\vec{k}_1, \\vec{k}_2, \\vec{k}_3, \\vec{k}_4) = \\\\\n",
    "&9\\alpha(\\vec{k}_1, \\vec{k}_2 + \\vec{k}_3 + \\vec{k}_4) F_3(\\vec{k}_2, \\vec{k}_3, \\vec{k}_4) + 2\\beta(\\vec{k}_1, \\vec{k}_2 + \\vec{k}_3 + \\vec{k}_4) G_3(\\vec{k}_2, \\vec{k}_3, \\vec{k}_4)\\\\\n",
    "& + 9\\alpha(\\vec{k}_1 + \\vec{k}_2, \\vec{k}_3 + \\vec{k}_4) G_2(\\vec{k}_1, \\vec{k}_2)F_2(\\vec{k}_3, \\vec{k}_4) + 2\\beta(\\vec{k}_1 + \\vec{k}_2, \\vec{k}_3 + \\vec{k}_4) G_2(\\vec{k}_1, \\vec{k}_2)G_2(\\vec{k}_2, \\vec{k}_3)\\\\\n",
    "&+ 9\\alpha(\\vec{k}_1 + \\vec{k}_2 + \\vec{k}_3, \\vec{k}_4) G_3(\\vec{k}_1, \\vec{k}_2, \\vec{k}_3) + 2\\beta(\\vec{k}_1 + \\vec{k}_2 + \\vec{k}_3, \\vec{k}_4) G_3(\\vec{k}_1, \\vec{k}_2, \\vec{k}_3)\\\\\n",
    "& + 23\\,\\text{perms.}\n",
    "\\end{align*}\n",
    "$$\n",
    "\n",
    "Remember that $\\alpha(\\vec{k}_1, \\vec{k}_2) = \\vec{k}_{12}.\\vec{k}_1/k_1^2$, and $\\beta(\\vec{k}_1, \\vec{k}_2) = k_{12}^2 (\\vec{k}_1.\\vec{k}_2)/k_1^2 k_2^2$ which seems to diverge when one of the momenta goes to zero. But this appears multiplying a kernel that also vanishes quadratically:"
   ]
  },
  {
   "cell_type": "code",
   "execution_count": 14,
   "metadata": {},
   "outputs": [
    {
     "data": {
      "text/latex": [
       "$\\displaystyle \\epsilon^{2} \\left(- \\frac{\\vec{v} \\cdot \\vec{v}}{14 \\vec{k} \\cdot \\vec{k}} - \\frac{3 \\vec{k} \\cdot \\vec{v}^{2}}{7 \\vec{k} \\cdot \\vec{k}^{2}}\\right) + O\\left(\\epsilon^{3}\\right)$"
      ],
      "text/plain": [
       "epsilon**2*(-\\vec{v} \\cdot \\vec{v}/(14*\\vec{k} \\cdot \\vec{k}) - 3*\\vec{k} \\cdot \\vec{v}**2/(7*\\vec{k} \\cdot \\vec{k}**2)) + O(epsilon**3)"
      ]
     },
     "execution_count": 14,
     "metadata": {},
     "output_type": "execute_result"
    }
   ],
   "source": [
    "k, v = vect.vectors(\"k\", \"v\")\n",
    "epsilon = vect.Scalar(\"epsilon\")\n",
    "eps = sp.Symbol(\"epsilon\")\n",
    "\n",
    "g2 = vect.sympy(kernels.Gs(2, [k, epsilon*v - k]))\n",
    "sp.series(g2, eps, 0, n=3)"
   ]
  },
  {
   "cell_type": "code",
   "execution_count": 15,
   "metadata": {},
   "outputs": [
    {
     "data": {
      "text/latex": [
       "$\\displaystyle \\epsilon^{2} \\cdot \\left(\\frac{3 \\vec{v} \\cdot \\vec{v}}{14 \\vec{k} \\cdot \\vec{k}} - \\frac{5 \\vec{k} \\cdot \\vec{v}^{2}}{7 \\vec{k} \\cdot \\vec{k}^{2}}\\right) + O\\left(\\epsilon^{3}\\right)$"
      ],
      "text/plain": [
       "epsilon**2*(3*\\vec{v} \\cdot \\vec{v}/(14*\\vec{k} \\cdot \\vec{k}) - 5*\\vec{k} \\cdot \\vec{v}**2/(7*\\vec{k} \\cdot \\vec{k}**2)) + O(epsilon**3)"
      ]
     },
     "execution_count": 15,
     "metadata": {},
     "output_type": "execute_result"
    }
   ],
   "source": [
    "f2 = vect.sympy(kernels.Fs(2, [k, epsilon*v - k]))\n",
    "sp.series(f2, eps, 0, n=3)"
   ]
  },
  {
   "cell_type": "markdown",
   "metadata": {},
   "source": [
    "We also need the regularized $F_3$ and $G_3$ in order to compute $F_4$.\n",
    "\n",
    "$$\n",
    "\\begin{align*}\n",
    "(18\\times 6)F_3(\\vec{k}_1, \\vec{k}_2, \\vec{k}_3) &= 7\\alpha(\\vec{k}_1, \\vec{k}_2 + \\vec{k}_3) F_2(\\vec{k}_2, \\vec{k}_3) + 2\\beta(\\vec{k}_1, \\vec{k}_2 + \\vec{k}_3) G_2(\\vec{k}_2, \\vec{k}_3)\\\\\n",
    "& + G_2(\\vec{k}_1, \\vec{k}_2)\\left(7\\alpha(\\vec{k}_1 + \\vec{k}_2, \\vec{k}_3) + 2\\beta(\\vec{k}_1 + \\vec{k}_2, \\vec{k}_3)\\right)\\\\\n",
    "& + 5\\,\\text{perms.}\n",
    "\\end{align*}\n",
    "$$\n",
    "\n",
    "$$\n",
    "\\begin{align*}\n",
    "(18\\times 6)G_3(\\vec{k}_1, \\vec{k}_2, \\vec{k}_3) &= 3\\alpha(\\vec{k}_1, \\vec{k}_2 + \\vec{k}_3) G_2(\\vec{k}_2, \\vec{k}_3) + 6\\beta(\\vec{k}_1, \\vec{k}_2 + \\vec{k}_3) G_2(\\vec{k}_2, \\vec{k}_3)\\\\\n",
    "& + G_2(\\vec{k}_1, \\vec{k}_2)\\left(3\\alpha(\\vec{k}_1 + \\vec{k}_2, \\vec{k}_3) + 6\\beta(\\vec{k}_1 + \\vec{k}_2, \\vec{k}_3)\\right)\\\\\n",
    "& + 5\\,\\text{perms.}\n",
    "\\end{align*}\n",
    "$$"
   ]
  },
  {
   "cell_type": "code",
   "execution_count": 16,
   "metadata": {},
   "outputs": [],
   "source": [
    "from itertools import permutations\n",
    "\n",
    "v0 = vect.Vector('0')\n",
    "\n",
    "def F3_reg(ks):\n",
    "    if ks[0] + ks[1] == v0:\n",
    "        return (\n",
    "            7*kernels.alpha(ks[0], ks[1] + ks[2])*kernels.Fs(2, ks[1:])\n",
    "            + 2*kernels.beta(ks[0], ks[1] + ks[2])*kernels.Gs(2, ks[1:])\n",
    "        )/18\n",
    "    elif ks[1] + ks[2] == v0:\n",
    "        return (\n",
    "            kernels.Gs(2, ks[:2])*(7*kernels.alpha(ks[0] + ks[1], ks[2]) \n",
    "            + 2*kernels.beta(ks[0] + ks[1], ks[2]))\n",
    "        )/18\n",
    "    else:\n",
    "        return kernels.F(3, ks)\n",
    "\n",
    "def G3_reg(ks):\n",
    "    if ks[0] + ks[1] == v0:\n",
    "        return (\n",
    "            3*kernels.alpha(ks[0], ks[1] + ks[2])*kernels.Gs(2, ks[1:])\n",
    "            + 6*kernels.beta(ks[0], ks[1] + ks[2])*kernels.Gs(2, ks[1:])\n",
    "        )/18\n",
    "    elif ks[1] + ks[2] == v0:\n",
    "        return (\n",
    "            kernels.Gs(2, ks[:2])*(3*kernels.alpha(ks[0] + ks[1], ks[2]) \n",
    "            + 6*kernels.beta(ks[0] + ks[1], ks[2]))\n",
    "        )/18\n",
    "    else:\n",
    "        return kernels.G(3, ks)\n",
    "\n",
    "def F3s_reg(ks):\n",
    "    return sum(map(lambda x: F3_reg(x), permutations(ks)))/6\n",
    "\n",
    "def G3s_reg(ks):\n",
    "    return sum(map(lambda x: G3_reg(x), permutations(ks)))/6"
   ]
  },
  {
   "cell_type": "markdown",
   "metadata": {},
   "source": [
    "\n",
    "$$\n",
    "\\begin{align*}\n",
    "&(33\\times 24)F_4(\\vec{k}_1, \\vec{k}_2, \\vec{k}_3, \\vec{k}_4) = \\\\\n",
    "&9\\alpha(\\vec{k}_1, \\vec{k}_2 + \\vec{k}_3 + \\vec{k}_4) F_3(\\vec{k}_2, \\vec{k}_3, \\vec{k}_4) + 2\\beta(\\vec{k}_1, \\vec{k}_2 + \\vec{k}_3 + \\vec{k}_4) G_3(\\vec{k}_2, \\vec{k}_3, \\vec{k}_4)\\\\\n",
    "& + 9\\alpha(\\vec{k}_1 + \\vec{k}_2, \\vec{k}_3 + \\vec{k}_4) G_2(\\vec{k}_1, \\vec{k}_2)F_2(\\vec{k}_3, \\vec{k}_4) + 2\\beta(\\vec{k}_1 + \\vec{k}_2, \\vec{k}_3 + \\vec{k}_4) G_2(\\vec{k}_1, \\vec{k}_2)G_2(\\vec{k}_2, \\vec{k}_3)\\\\\n",
    "&+ 9\\alpha(\\vec{k}_1 + \\vec{k}_2 + \\vec{k}_3, \\vec{k}_4) G_3(\\vec{k}_1, \\vec{k}_2, \\vec{k}_3) + 2\\beta(\\vec{k}_1 + \\vec{k}_2 + \\vec{k}_3, \\vec{k}_4) G_3(\\vec{k}_1, \\vec{k}_2, \\vec{k}_3)\\\\\n",
    "& + 23\\,\\text{perms.}\n",
    "\\end{align*}\n",
    "$$"
   ]
  },
  {
   "cell_type": "code",
   "execution_count": 17,
   "metadata": {},
   "outputs": [],
   "source": [
    "def F4s_reg(ks):\n",
    "    result = 0\n",
    "    index_list = [0,1,2,3]\n",
    "    # for indices in permutations(range(4)):\n",
    "    for i in range(4):\n",
    "        indices = [i] + index_list[:i] + index_list[i + 1:]\n",
    "        kl = np.asarray(ks)[list(indices)]\n",
    "        result += (\n",
    "            9*kernels.alpha(kl[0], sum(kl[1:]))*F3s_reg(kl[1:])\n",
    "            + 2*kernels.beta(kl[0], sum(kl[1:]))*G3s_reg(kl[1:])\n",
    "            + 9*kernels.alpha(sum(kl[1:]), kl[0])*G3s_reg(kl[1:])\n",
    "            + 2*kernels.beta(sum(kl[1:]), kl[0])*G3s_reg(kl[1:])\n",
    "        )/33/4\n",
    "    for i in range(1,4):\n",
    "        indices = [0, i] + index_list[1:i] + index_list[i + 1:]\n",
    "        kl = np.asarray(ks)[list(indices)]\n",
    "        if kl[0] + kl[1] != v0 and kl[2] + kl[3] != v0:\n",
    "            result += (\n",
    "                9*kernels.alpha(kl[0] + kl[1], kl[2] + kl[3])*kernels.Gs(2, kl[:2])*kernels.Fs(2, kl[2:])\n",
    "                + 4*kernels.beta(kl[0] + kl[1], kl[2] + kl[3])*kernels.Gs(2, kl[:2])*kernels.Gs(2, kl[2:])\n",
    "                + 9*kernels.alpha(kl[2] + kl[3], kl[0] + kl[1])*kernels.Gs(2, kl[2:])*kernels.Fs(2, kl[:2])\n",
    "            )/33/6\n",
    "    return result"
   ]
  },
  {
   "cell_type": "markdown",
   "metadata": {},
   "source": [
    "Let's check that it satisfies the consistency relation\n",
    "\n",
    "$$\n",
    "\\lim_{q \\rightarrow 0}F_4(\\bm{q}, \\bm{p}, -\\bm{p}, \\bm{k}) = \\frac{\\bm{k}.\\bm{q}}{4q^2} F_3(\\bm{p}, -\\bm{p}, \\bm{k}) + \\mathcal{O}(q^0)\\,.\n",
    "$$"
   ]
  },
  {
   "cell_type": "code",
   "execution_count": 18,
   "metadata": {},
   "outputs": [
    {
     "data": {
      "text/latex": [
       "$\\displaystyle 0$"
      ],
      "text/plain": [
       "0"
      ]
     },
     "execution_count": 18,
     "metadata": {},
     "output_type": "execute_result"
    }
   ],
   "source": [
    "vq, vp, vk = vect.vectors('q', 'p', 'k')\n",
    "# We use c to keep track of cosines involving q\n",
    "q, p, k, muqp, muqk, mukp = sp.symbols([\n",
    "    \"q\", \"p\", \"k\", \n",
    "    r\"\\mu_{qp}\", r\"\\mu_{qk}\", r\"\\mu_{kp}\"\n",
    "])\n",
    "f4Raw = F4s_reg([vq, vp, -vp, vk])\n",
    "pdp = vect.sympy(vect.Dot(vp, vp))\n",
    "kdk = vect.sympy(vect.Dot(vk, vk))\n",
    "qdq = vect.sympy(vect.Dot(vq, vq))\n",
    "qdp = vect.sympy(vect.Dot(vq, vp))\n",
    "qdk = vect.sympy(vect.Dot(vq, vk))\n",
    "pdk = vect.sympy(vect.Dot(vp, vk))\n",
    "replacements = [\n",
    "    (qdq, q**2), \n",
    "    (pdp, p**2), \n",
    "    (kdk, k**2), \n",
    "    (qdp, q*p*muqp),\n",
    "    (qdk, q*k*muqk),\n",
    "    (pdk, p*k*mukp)\n",
    "]\n",
    "f4 = vect.sympy(f4Raw).subs(replacements)\n",
    "\n",
    "seriesm1 = sp.series(f4, q, n=0).removeO()\n",
    "f3raw = F3s_reg([vp, -vp, vk])\n",
    "f3 = vect.sympy(f3raw).subs(replacements)\n",
    "rhs = sp.simplify(((muqk*k)/(4*q))*f3)\n",
    "sp.simplify(seriesm1 - rhs)"
   ]
  },
  {
   "cell_type": "markdown",
   "metadata": {},
   "source": [
    "Great! Now generate the kernel!"
   ]
  },
  {
   "cell_type": "code",
   "execution_count": 19,
   "metadata": {},
   "outputs": [],
   "source": [
    "vk1, vk2, vp = vect.vectors(\"k1\", \"k2\", \"p\")\n",
    "# We use c to keep track of cosines involving q\n",
    "k1, k2, mu12, p, mu1, mu2 = sp.symbols([\n",
    "    \"k1\", \"k2\", \"mu12\", \"p\", \"mu1\", \"mu2\"\n",
    "])\n",
    "kernel_raw = F4s_reg([vk1, vk2, vp, -vp])\n",
    "pdp = vect.sympy(vect.Dot(vp, vp))\n",
    "k1dk1 = vect.sympy(vect.Dot(vk1, vk1))\n",
    "k2dk2 = vect.sympy(vect.Dot(vk2, vk2))\n",
    "k2dp = vect.sympy(vect.Dot(vk2, vp))\n",
    "k2dk1 = vect.sympy(vect.Dot(vk2, vk1))\n",
    "k1dp = vect.sympy(vect.Dot(vk1, vp))\n",
    "replacements = [\n",
    "    (k2dk2, k2**2), \n",
    "    (pdp, p**2), \n",
    "    (k1dk1, k1**2),  \n",
    "    (k2dp, k2*p*mu2),\n",
    "    (k2dk1, k1*k2*mu12),\n",
    "    (k1dp, k1*p*mu1)\n",
    "]\n",
    "kernel_symbolic = sp.simplify(vect.sympy(kernel_raw).subs(replacements))\n",
    "kernel_string = str(kernel_symbolic)\n",
    "with open(\"b411_kernel.txt\", \"w\") as fout:\n",
    "    fout.write(kernel_string)\n"
   ]
  },
  {
   "cell_type": "markdown",
   "metadata": {},
   "source": [
    "Now the squeezed limit kernel."
   ]
  },
  {
   "cell_type": "code",
   "execution_count": null,
   "metadata": {},
   "outputs": [],
   "source": [
    "vk1, vk2, vp = vect.vectors('k1', 'k2', 'p')\n",
    "k1, k2, p, mu1, mu2, mu12 = sp.symbols([\n",
    "    \"k1\", \"k2\", \"p\", \n",
    "    r\"mu1\", r\"mu2\", r\"mu12\"\n",
    "])\n",
    "f4Raw = F4s_reg([vk1, vp, -vp, vk2])\n",
    "k1dk1 = vect.sympy(vect.Dot(vk1, vk1))\n",
    "k2dk2 = vect.sympy(vect.Dot(vk2, vk2))\n",
    "pdp = vect.sympy(vect.Dot(vp, vp))\n",
    "k1dk2 = vect.sympy(vect.Dot(vk1, vk2))\n",
    "k1dp = vect.sympy(vect.Dot(vk1, vp))\n",
    "k2dp = vect.sympy(vect.Dot(vk2, vp))\n",
    "replacements = [\n",
    "    (k1dk1, k1**2),\n",
    "    (k2dk2, k2**2),\n",
    "    (pdp, p**2),\n",
    "    (k1dk2, k1*k2*mu12),\n",
    "    (k1dp, k1*p*mu1),\n",
    "    (k2dp, k2*p*mu2)\n",
    "]\n",
    "f4 = vect.sympy(f4Raw).subs(replacements)\n",
    "\n",
    "series = sp.series(f4, k1, n=1).removeO()\n",
    "series = sp.simplify(series)\n",
    "series_string = str(series)\n",
    "with open(\"b411_kernel_squeezed.txt\", \"w\") as fout:\n",
    "    fout.write(series_string)"
   ]
  },
  {
   "cell_type": "code",
   "execution_count": null,
   "metadata": {},
   "outputs": [],
   "source": [
    "vk1, vk2, vp = vect.vectors('k1', 'k2', 'p')\n",
    "k1, k2, p, mu1, mu2, mu12 = sp.symbols([\n",
    "    \"k1\", \"k2\", \"p\", \n",
    "    r\"mu1\", r\"mu2\", r\"mu12\"\n",
    "])\n",
    "f4Raw = F4s_reg([vk1, vp, -vp, vk2])\n",
    "k1dk1 = vect.sympy(vect.Dot(vk1, vk1))\n",
    "k2dk2 = vect.sympy(vect.Dot(vk2, vk2))\n",
    "pdp = vect.sympy(vect.Dot(vp, vp))\n",
    "k1dk2 = vect.sympy(vect.Dot(vk1, vk2))\n",
    "k1dp = vect.sympy(vect.Dot(vk1, vp))\n",
    "k2dp = vect.sympy(vect.Dot(vk2, vp))\n",
    "replacements = [\n",
    "    (k1dk1, k1**2),\n",
    "    (k2dk2, k2**2),\n",
    "    (pdp, p**2),\n",
    "    (k1dk2, k1*k2*mu12),\n",
    "    (k1dp, k1*p*mu1),\n",
    "    (k2dp, k2*p*mu2)\n",
    "]\n",
    "f4 = vect.sympy(f4Raw).subs(replacements)\n",
    "\n",
    "series = sp.series(f4, k1, n=1).removeO() - sp.series(f4, k1, n=0).removeO()\n",
    "series = sp.simplify(series)\n",
    "series_string = str(series)\n",
    "with open(\"b411_kernel_squeezed_0.txt\", \"w\") as fout:\n",
    "    fout.write(series_string)"
   ]
  },
  {
   "cell_type": "code",
   "execution_count": null,
   "metadata": {},
   "outputs": [],
   "source": [
    "vk1, vk2, vp = vect.vectors('k1', 'k2', 'p')\n",
    "k1, k2, p, mu1, mu2, mu12 = sp.symbols([\n",
    "    \"k1\", \"k2\", \"p\", \n",
    "    r\"mu1\", r\"mu2\", r\"mu12\"\n",
    "])\n",
    "f4Raw = F4s_reg([vk1, vp, -vp, vk2])\n",
    "k1dk1 = vect.sympy(vect.Dot(vk1, vk1))\n",
    "k2dk2 = vect.sympy(vect.Dot(vk2, vk2))\n",
    "pdp = vect.sympy(vect.Dot(vp, vp))\n",
    "k1dk2 = vect.sympy(vect.Dot(vk1, vk2))\n",
    "k1dp = vect.sympy(vect.Dot(vk1, vp))\n",
    "k2dp = vect.sympy(vect.Dot(vk2, vp))\n",
    "replacements = [\n",
    "    (k1dk1, k1**2),\n",
    "    (k2dk2, k2**2),\n",
    "    (pdp, p**2),\n",
    "    (k1dk2, k1*k2*mu12),\n",
    "    (k1dp, k1*p*mu1),\n",
    "    (k2dp, k2*p*mu2)\n",
    "]\n",
    "f4 = vect.sympy(f4Raw).subs(replacements)\n",
    "\n",
    "series = sp.series(f4, k1, n=1).removeO() - sp.series(f4, k1, n=0).removeO()\n",
    "\n",
    "series_poly = sp.poly(series, mu1, mu12)\n",
    "\n",
    "phi = sp.Symbol(\"phi\")\n",
    "phi_integral_mu1 = sp.integrate(\n",
    "    sp.sqrt(1 - mu12**2)*sp.sqrt(1 - mu2**2)*sp.cos(phi) + mu2*mu12, \n",
    "(phi, 0, 2*sp.pi))\n",
    "phi_integral_mu1_sq = sp.integrate(\n",
    "    (sp.sqrt(1 - mu12**2)*sp.sqrt(1 - mu2**2)*sp.cos(phi) + mu2*mu12)**2, \n",
    "(phi, 0, 2*sp.pi))\n",
    "phi_integral_const = 2*sp.pi\n",
    "\n",
    "quadratic = series_poly.coeff_monomial(mu1**2)\n",
    "linear = series_poly.coeff_monomial(mu1*mu12)*mu12\n",
    "zeroth = series_poly.coeff_monomial(mu12**2)*mu12**2 + series_poly.coeff_monomial(1)\n",
    "\n",
    "if (\n",
    "    series_poly.coeff_monomial(mu1) != 0 \n",
    "    or series_poly.coeff_monomial(mu12) != 0\n",
    "    or series_poly.degree() > 2\n",
    "):\n",
    "    raise Exception(\"Polynomial has unexpected coefficients!\")\n",
    "\n",
    "result_poly = sp.poly(\n",
    "    zeroth*phi_integral_const + linear*phi_integral_mu1 + quadratic*phi_integral_mu1_sq,\n",
    "    mu12)\n",
    "\n",
    "b1_kernel = result_poly.coeff_monomial(1)\n",
    "bmu_kernel = result_poly.coeff_monomial(mu12**2)\n",
    "\n",
    "if result_poly.coeff_monomial(mu12) != 0 or result_poly.degree() > 2:\n",
    "    raise Exception(\"Unexpected coefficient in mu12 polynomial!\")\n",
    "\n",
    "b1_kernel_string = str(b1_kernel)\n",
    "bmu_kernel_string = str(bmu_kernel)\n",
    "\n",
    "with open(\"b411_b1_kernel.txt\", \"w\") as fin:\n",
    "    fin.write(b1_kernel_string)\n",
    "with open(\"b411_bmu_kernel.txt\", \"w\") as fin:\n",
    "    fin.write(bmu_kernel_string)"
   ]
  },
  {
   "cell_type": "markdown",
   "metadata": {},
   "source": [
    "## Generate C code"
   ]
  },
  {
   "cell_type": "code",
   "execution_count": 7,
   "metadata": {},
   "outputs": [],
   "source": [
    "def load_kernel(fname):\n",
    "    with open(fname, \"r\") as fin:\n",
    "        kernel_string = fin.read()\n",
    "    return sp.sympify(kernel_string)\n",
    "\n",
    "tree_kernel = load_kernel(\"tree_kernel.txt\")\n",
    "p22_kernel = load_kernel(\"p22_kernel.txt\")\n",
    "p31_kernel = load_kernel(\"p31_kernel.txt\")\n",
    "b222_kernel = load_kernel(\"b222_kernel.txt\")\n",
    "b321I_kernel = load_kernel(\"b321I_kernel.txt\")\n",
    "b411_kernel = load_kernel(\"b411_kernel.txt\")\n",
    "\n",
    "tree_kernel_squeezed = load_kernel(\"tree_kernel_squeezed.txt\")\n",
    "b321I_kernel_squeezed = load_kernel(\"b321I_kernel_squeezed.txt\")\n",
    "b411_kernel_squeezed = load_kernel(\"b411_kernel_squeezed.txt\")\n",
    "\n",
    "tree_kernel_squeezed_0 = load_kernel(\"tree_kernel_squeezed_0.txt\")\n",
    "b321I_kernel_squeezed_0 = load_kernel(\"b321I_kernel_squeezed_0.txt\")\n",
    "b411_kernel_squeezed_0 = load_kernel(\"b411_kernel_squeezed_0.txt\")\n",
    "\n",
    "tree_b1_kernel = load_kernel(\"tree_b1_kernel.txt\")\n",
    "tree_bmu_kernel = load_kernel(\"tree_bmu_kernel.txt\")\n",
    "b321I_b1_kernel = load_kernel(\"b321I_b1_kernel.txt\")\n",
    "b321I_bmu_kernel = load_kernel(\"b321I_bmu_kernel.txt\")\n",
    "b411_b1_kernel = load_kernel(\"b411_b1_kernel.txt\")\n",
    "b411_bmu_kernel = load_kernel(\"b411_bmu_kernel.txt\")\n",
    "\n",
    "from sympy.utilities.codegen import codegen\n",
    "codegen(\n",
    "    [\n",
    "        ('tree_kernel', tree_kernel),\n",
    "        ('p22_kernel', p22_kernel),\n",
    "        ('p31_kernel', p31_kernel),\n",
    "        ('b222_kernel', b222_kernel),\n",
    "        ('b321I_kernel', b321I_kernel),\n",
    "        ('b411_kernel', b411_kernel),\n",
    "        ('tree_kernel_squeezed', tree_kernel_squeezed),\n",
    "        ('b321I_kernel_squeezed', b321I_kernel_squeezed),\n",
    "        ('b411_kernel_squeezed', b411_kernel_squeezed),\n",
    "        ('tree_kernel_squeezed_0', tree_kernel_squeezed_0),\n",
    "        ('b321I_kernel_squeezed_0', b321I_kernel_squeezed_0),\n",
    "        ('b411_kernel_squeezed_0', b411_kernel_squeezed_0),\n",
    "        ('tree_b1_kernel', tree_b1_kernel),\n",
    "        ('tree_bmu_kernel', tree_bmu_kernel),\n",
    "        ('b321I_b1_kernel', b321I_b1_kernel),\n",
    "        ('b321I_bmu_kernel', b321I_bmu_kernel),\n",
    "        ('b411_b1_kernel', b411_b1_kernel),\n",
    "        ('b411_bmu_kernel', b411_bmu_kernel)\n",
    "    ],\n",
    "    \"C99\", \"kernels\", to_files=True\n",
    ")"
   ]
  },
  {
   "cell_type": "code",
   "execution_count": null,
   "metadata": {},
   "outputs": [],
   "source": []
  }
 ],
 "metadata": {
  "kernelspec": {
   "display_name": "Python 3 (ipykernel)",
   "language": "python",
   "name": "python3"
  },
  "language_info": {
   "codemirror_mode": {
    "name": "ipython",
    "version": 3
   },
   "file_extension": ".py",
   "mimetype": "text/x-python",
   "name": "python",
   "nbconvert_exporter": "python",
   "pygments_lexer": "ipython3",
   "version": "3.10.6"
  },
  "vscode": {
   "interpreter": {
    "hash": "5aad6c4f7039f4ccdab7375fdae3735a745e0069090b420a96008d443b19766b"
   }
  }
 },
 "nbformat": 4,
 "nbformat_minor": 2
}
